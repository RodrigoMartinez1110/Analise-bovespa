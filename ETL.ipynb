{
 "cells": [
  {
   "cell_type": "markdown",
   "id": "7e981f57-a54e-40d1-9486-0b904665bf18",
   "metadata": {},
   "source": [
    "# Bovespa - Análise das ações"
   ]
  },
  {
   "cell_type": "code",
   "execution_count": 3,
   "id": "33b98298-9be0-4c24-9ce2-13a6826b48c0",
   "metadata": {},
   "outputs": [],
   "source": [
    "import pandas as pd\n",
    "import os\n",
    "import numpy as np\n",
    "pd.set_option('display.float_format', '{:.2f}'.format)\n",
    "\n",
    "diretorio_base = os.getcwd()\n",
    "pasta = \"arquivos\\\\\""
   ]
  },
  {
   "cell_type": "code",
   "execution_count": 4,
   "id": "a91c9d2e-b7a2-44a0-84d2-492f454fb518",
   "metadata": {},
   "outputs": [],
   "source": [
    "def ler_arquivos(caminho, nome_arquivo, ano_arquivo, tipo_arquivo):\n",
    "    _file = f'{caminho}{nome_arquivo}{ano_arquivo}.{tipo_arquivo}'\n",
    "\n",
    "    colunas_desejadas = [\n",
    "        (2,10),\n",
    "        (10,12),\n",
    "        (12,24),\n",
    "        (27,39),\n",
    "        (56, 69),\n",
    "        (69, 82),\n",
    "        (82, 95),\n",
    "        (108, 121),\n",
    "        (152, 170),\n",
    "        (170, 188)\n",
    "                        ]\n",
    "\n",
    "    nome_colunas = ['data_pregao', 'codbdi', 'sigla_acao', 'nome_acao', 'preco_abertura', 'preco_max', 'preco_min', 'preco_fechamento', 'qtd_negocios', 'volume_negocios']\n",
    "\n",
    "    df = pd.read_fwf(_file, colspecs=colunas_desejadas, names=nome_colunas, skiprows=1)\n",
    "    return df\n",
    "    "
   ]
  },
  {
   "cell_type": "code",
   "execution_count": 5,
   "id": "0aadf9e2-637d-4f16-98a1-110260c7fc40",
   "metadata": {},
   "outputs": [],
   "source": [
    "def filtrar_stocks(df):\n",
    "    df = df[df['codbdi'] == 2]\n",
    "    df = df.drop(['codbdi'], axis=1)\n",
    "    return df"
   ]
  },
  {
   "cell_type": "code",
   "execution_count": 6,
   "id": "e6e8cc16-4f07-4507-bc96-c9c6223b6bfb",
   "metadata": {},
   "outputs": [],
   "source": [
    "def ajustar_data(df):\n",
    "    df['data_pregao'] = pd.to_datetime(df['data_pregao']).dt.date\n",
    "    return df"
   ]
  },
  {
   "cell_type": "code",
   "execution_count": 7,
   "id": "6950cb8a-00a1-41f2-a7cf-731ebc9905ca",
   "metadata": {},
   "outputs": [],
   "source": [
    "def ajustar_valores(df):\n",
    "    colunas_valores = df.select_dtypes(include=['number']).columns\n",
    "    for col_val in colunas_valores:\n",
    "        df[col_val] = (df[col_val] / 100).astype(float)\n",
    "\n",
    "    return df"
   ]
  },
  {
   "cell_type": "code",
   "execution_count": 8,
   "id": "8a704ae4-3f62-48c9-82b0-50f3e8f15b3e",
   "metadata": {},
   "outputs": [],
   "source": [
    "def concat_arquivos(caminho, nome_arquivo, ano_arquivo, tipo_arquivo, arquivo_final):\n",
    "    for i, y in enumerate(ano_arquivo):\n",
    "        df = ler_arquivos(caminho, nome_arquivo, y, tipo_arquivo)\n",
    "        df = filtrar_stocks(df)\n",
    "        df = ajustar_data(df)\n",
    "        df = ajustar_valores(df)\n",
    "\n",
    "        if i  == 0:\n",
    "            df_final = df\n",
    "        else:\n",
    "            df_final = pd.concat([df_final, df])\n",
    "\n",
    "    df_final.to_csv(f'{caminho}//{arquivo_final}', index=False)"
   ]
  },
  {
   "cell_type": "code",
   "execution_count": 9,
   "id": "acfa091c-afc1-4624-8c50-ea2c3b3cf283",
   "metadata": {},
   "outputs": [],
   "source": [
    "year_date = ['2022', '2023', '2024']\n",
    "\n",
    "path = os.path.join(diretorio_base, pasta)\n",
    "\n",
    "name_file = 'COTAHIST_A'\n",
    "\n",
    "type_file = 'txt'\n",
    "\n",
    "final_file = 'all_bovespa.csv'\n",
    "\n",
    "concat_arquivos(path, name_file, year_date, type_file, final_file)\n"
   ]
  }
 ],
 "metadata": {
  "kernelspec": {
   "display_name": "Python 3 (ipykernel)",
   "language": "python",
   "name": "python3"
  },
  "language_info": {
   "codemirror_mode": {
    "name": "ipython",
    "version": 3
   },
   "file_extension": ".py",
   "mimetype": "text/x-python",
   "name": "python",
   "nbconvert_exporter": "python",
   "pygments_lexer": "ipython3",
   "version": "3.12.4"
  }
 },
 "nbformat": 4,
 "nbformat_minor": 5
}
